{
 "cells": [
  {
   "attachments": {},
   "cell_type": "markdown",
   "metadata": {},
   "source": [
    "### To Create a Website:\n",
    "1. register and buy a domain name, in this case jordanKhoo.ca on namecheap or something\n",
    "2. choose a hosting provider, which is a company that stores my data and files for me\n",
    "3. build my website with either a website builder or code it myself with css, html, or javascript\n",
    "4. publish my website to the hosting provider using File Transfer Protocol (FTP)\n",
    "5. update the Domain Name Settings (DNS) to point to my hosting provider servers\n",
    "6. make sure my website is publically accessable"
   ]
  },
  {
   "cell_type": "markdown",
   "metadata": {},
   "source": [
    "### HTML, CSS, and JS:\n",
    "\n",
    "#### HTML\n",
    "\"hyper text markup language\"\n",
    "\n",
    "not a programming language. markup language. simply structures text.\n",
    "\n",
    "a set of intructions that simply identify different elements on a webpage through \"tags\" and \"elements\".\n",
    "\n",
    "without CSS, HTML is boring. its simply the text and the **barebones, structural layer**.\n",
    "\n",
    "#### CSS\n",
    "\"cascading style sheets\"\n",
    "\n",
    "is the **meat, or presentation layer** of the website.\n",
    "\n",
    "what makes a website looks good.\n",
    "\n",
    "a list of rules that can be assigned to different html tags/elements.\n",
    "\n",
    "#### JS\n",
    "\"javascript\"\n",
    "\n",
    "programming language. makes the website functional.\n",
    "\n",
    "makes links link to eachother, notifications pop up, animations, pop-ups, etc, dynamic behaviour.\n",
    "\n",
    "has many libraries to enhance the experience.\n",
    "\n",
    "### Framework\n",
    "\n",
    "Ex: Node.js, Angular.js, React.js, Three.js\n",
    "\n",
    "Python based: Django\n",
    "\n",
    "This framework is the adhesive/glue that brings the skeleton, skin, and functionality together. It does integrations for me.\n",
    "\n",
    "You typically code everything all in the framwork.\n",
    "\n",
    "Im using three.js because i wanna do something fancy for this portfolio website lmao\n",
    "\n",
    "Frameworks have libraries. one of these is three.js, a lightweight rendering tool for 3d renders.\n",
    "https://threejs.org/docs/index.html#manual/en/introduction/Installation\n",
    "https://threejs.org/"
   ]
  },
  {
   "cell_type": "markdown",
   "metadata": {},
   "source": [
    "### Tech Stack\n",
    "\n",
    "A collection of technologies/languages/whatever that is used to make something. This includes the front end (user interface), backend (server side runtime, database to store client generated data, purchased from a big cloud provider like aws or google cloud),  and the API (tool to connect front end to backend)\n",
    "\n",
    "Ex:\n",
    "\n",
    "for a frontend website:\n",
    "- Javascript\n",
    "for a frontend mobile:\n",
    "- IOS/Android\n",
    "- cross platform tool (flutter software)\n",
    "\n",
    "for backend:\n",
    "- Node.js, python\n",
    "for database:\n",
    "- mongoDB, elephantSQL\n",
    "\n",
    "for API:\n",
    "- strype for payments\n",
    "- twilio for text messaging\n",
    "- sengrid for email\n",
    "\n",
    "For my API, i'm using WebGL which is a JS API for rendering 2D and 3D grapics. I have no clue what other API's are and I don't want to know at this moment lmao. As long as I can get this website up and as long as it works.\n",
    "\n",
    "\n",
    "server-side runtime: platform where javascript is executed on the SERVER rather than in the user's browser"
   ]
  },
  {
   "cell_type": "markdown",
   "metadata": {},
   "source": [
    "### Addons\n",
    "\n",
    "i need a couple addons apparently (or i assume it will help and make my life easier)\n",
    "\n",
    "heres a list:\n",
    "1. GLTFLoader: efficient delivery and loading of 3D content\n",
    "2. OrbitControls: allow camera to orbit a target\n",
    "\n"
   ]
  }
 ],
 "metadata": {
  "kernelspec": {
   "display_name": "Python 3",
   "language": "python",
   "name": "python3"
  },
  "language_info": {
   "name": "python",
   "version": "3.10.10"
  },
  "orig_nbformat": 4,
  "vscode": {
   "interpreter": {
    "hash": "b7354bf427093662b101b69011f1ae56172fb7013592472537597354c9933651"
   }
  }
 },
 "nbformat": 4,
 "nbformat_minor": 2
}
